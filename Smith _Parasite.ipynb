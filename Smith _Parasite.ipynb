{
 "cells": [
  {
   "cell_type": "markdown",
   "id": "524f2fdd",
   "metadata": {},
   "source": [
    "## Machine Learning Project 2022/2023 - Group 60"
   ]
  },
  {
   "cell_type": "markdown",
   "id": "6b68d226",
   "metadata": {},
   "source": [
    "Group members:<p>\n",
    "    Beatriz Carmo - 20220685 <p>\n",
    "    João Malho - 20220696 <p>\n",
    "    Lizaveta Baryionak - 20220667 <p>\n",
    "    Marta Antunes - 20221094 <p>\n",
    "    Tomás Silva - 20221639"
   ]
  },
  {
   "cell_type": "code",
   "execution_count": 1,
   "id": "b1f75bf5",
   "metadata": {},
   "outputs": [
    {
     "data": {
      "application/javascript": "IPython.notebook.set_autosave_interval(90000)"
     },
     "metadata": {},
     "output_type": "display_data"
    },
    {
     "name": "stdout",
     "output_type": "stream",
     "text": [
      "Autosaving every 90 seconds\n"
     ]
    }
   ],
   "source": [
    "%autosave 90\n",
    "\n",
    "#basic libraries: numpy and pandasfor data handling, pyplot \n",
    "#and seaborn for visualization, math for mathematical operations\n",
    "import numpy as np\n",
    "import pandas as pd\n",
    "import matplotlib.pyplot as plt\n",
    "import seaborn as sns\n",
    "import math\n",
    "from scipy.stats import chi2_contingency\n",
    "\n",
    "\n",
    "#dataset partition\n",
    "from sklearn.model_selection import train_test_split\n",
    "\n",
    "#feature selection methods\n",
    "from sklearn.linear_model import LassoCV\n",
    "from sklearn.feature_selection import RFE\n",
    "from mlxtend.feature_selection import SequentialFeatureSelector as SFS\n",
    "\n",
    "#scaling methods and categorical variable encoder\n",
    "from sklearn.preprocessing import RobustScaler, OneHotEncoder\n",
    "\n",
    "#model selection \n",
    "from sklearn import model_selection\n",
    "from sklearn.model_selection import KFold, cross_val_score, GridSearchCV\n",
    "\n",
    "#undersampling methods\n",
    "#from imblearn.under_sampling import CondensedNearestNeighbour\n",
    "\n",
    "import warnings\n",
    "warnings.filterwarnings('ignore')\n",
    "\n",
    "#ensemble classifier models\n",
    "from sklearn.experimental import enable_hist_gradient_boosting\n",
    "from sklearn.ensemble import HistGradientBoostingClassifier\n",
    "from sklearn.ensemble import GradientBoostingClassifier\n",
    "from sklearn.ensemble import RandomForestClassifier\n",
    "\n",
    "#model evaluation\n",
    "from sklearn.metrics import accuracy_score, precision_score, recall_score, \\\n",
    "make_scorer, classification_report, confusion_matrix, f1_score\n",
    "\n",
    "from itertools import combinations\n",
    "from collections import Counter"
   ]
  },
  {
   "cell_type": "markdown",
   "id": "ee42261a",
   "metadata": {},
   "source": [
    "### Loading Data (and joining it into one DataFrame)"
   ]
  },
  {
   "cell_type": "code",
   "execution_count": 2,
   "id": "053dd1ce",
   "metadata": {},
   "outputs": [],
   "source": [
    "#training data\n",
    "\n",
    "demo_original=pd.read_excel('train_demo.xlsx')\n",
    "habits_original=pd.read_excel('train_habits.xlsx')\n",
    "health_original=pd.read_excel('train_health.xlsx')\n"
   ]
  },
  {
   "cell_type": "code",
   "execution_count": 3,
   "id": "148fa3e1",
   "metadata": {},
   "outputs": [],
   "source": [
    "#join all the testing data ino 1 dataframe\n",
    "demo_original.set_index('PatientID')\n",
    "health_original.set_index('PatientID')\n",
    "habits_original.set_index('PatientID')\n",
    "\n",
    "original=pd.merge(pd.merge(demo_original,habits_original,on='PatientID'),\n",
    "                  health_original,on='PatientID')\n",
    "original.set_index('PatientID', inplace=True)\n",
    "df=original.copy()"
   ]
  },
  {
   "cell_type": "code",
   "execution_count": 4,
   "id": "2fa74b2e",
   "metadata": {},
   "outputs": [],
   "source": [
    "#testing data\n",
    "\n",
    "demo_test=pd.read_excel('train_demo.xlsx')\n",
    "habits_test=pd.read_excel('train_habits.xlsx')\n",
    "health_test=pd.read_excel('train_health.xlsx')\n"
   ]
  },
  {
   "cell_type": "code",
   "execution_count": 5,
   "id": "10d24831",
   "metadata": {},
   "outputs": [],
   "source": [
    "#joining the testing data into one dataframe\n",
    "\n",
    "demo_test.set_index('PatientID')\n",
    "health_test.set_index('PatientID')\n",
    "habits_test.set_index('PatientID')\n",
    "\n",
    "test_df_orig=pd.merge(pd.merge(demo_test,habits_test,on='PatientID'),\n",
    "                  health_test,on='PatientID')\n",
    "test_df_orig.set_index('PatientID', inplace=True)\n",
    "test_df=test_df_orig.copy()"
   ]
  },
  {
   "cell_type": "code",
   "execution_count": 6,
   "id": "4db51d41",
   "metadata": {},
   "outputs": [
    {
     "data": {
      "text/plain": "                         Name  Birth_Year                    Region  \\\nPatientID                                                             \n1167       Mrs. Stephanie Gay        1965                    London   \n1805         Mr. Sherman Nero        1969                South West   \n1557          Mr. Mark Boller        1974  Yorkshire and the Humber   \n1658         Mr. David Caffee        1958                    London   \n1544         Mr. Gerald Emery        1968                South East   \n\n                                             Education  Disease Smoking_Habit  \\\nPatientID                                                                       \n1167       High School Incomplete (10th to 11th grade)        1            No   \n1805       High School Incomplete (10th to 11th grade)        1            No   \n1557              Elementary School (1st to 9th grade)        1            No   \n1658             University Complete (3 or more years)        0            No   \n1544              University Incomplete (1 to 2 years)        1            No   \n\n                                Drinking_Habit Exercise  \\\nPatientID                                                 \n1167       I usually consume alcohol every day      Yes   \n1805        I consider myself a social drinker      Yes   \n1557        I consider myself a social drinker       No   \n1658       I usually consume alcohol every day      Yes   \n1544        I consider myself a social drinker       No   \n\n                                               Fruit_Habit  \\\nPatientID                                                    \n1167       Less than 1. I do not consume fruits every day.   \n1805       Less than 1. I do not consume fruits every day.   \n1557       Less than 1. I do not consume fruits every day.   \n1658       Less than 1. I do not consume fruits every day.   \n1544                     1 to 2 pieces of fruit in average   \n\n                                              Water_Habit  Height  Weight  \\\nPatientID                                                                   \n1167                     Between one liter and two liters     155      67   \n1805                     Between one liter and two liters     173      88   \n1557       More than half a liter but less than one liter     162      68   \n1658       More than half a liter but less than one liter     180      66   \n1544       More than half a liter but less than one liter     180      58   \n\n           High_Cholesterol  Blood_Pressure  Mental_Health  Physical_Health  \\\nPatientID                                                                     \n1167                    358             120             21                2   \n1805                    230             142              9                0   \n1557                    226             122             26                0   \n1658                    313             125             13                8   \n1544                    277             125             18                2   \n\n                     Checkup  \\\nPatientID                      \n1167       More than 3 years   \n1805                Not sure   \n1557       More than 3 years   \n1658                Not sure   \n1544       More than 3 years   \n\n                                                    Diabetes  \nPatientID                                                     \n1167        Neither I nor my immediate family have diabetes.  \n1805        Neither I nor my immediate family have diabetes.  \n1557        Neither I nor my immediate family have diabetes.  \n1658       I have/had pregnancy diabetes or borderline di...  \n1544       I have/had pregnancy diabetes or borderline di...  ",
      "text/html": "<div>\n<style scoped>\n    .dataframe tbody tr th:only-of-type {\n        vertical-align: middle;\n    }\n\n    .dataframe tbody tr th {\n        vertical-align: top;\n    }\n\n    .dataframe thead th {\n        text-align: right;\n    }\n</style>\n<table border=\"1\" class=\"dataframe\">\n  <thead>\n    <tr style=\"text-align: right;\">\n      <th></th>\n      <th>Name</th>\n      <th>Birth_Year</th>\n      <th>Region</th>\n      <th>Education</th>\n      <th>Disease</th>\n      <th>Smoking_Habit</th>\n      <th>Drinking_Habit</th>\n      <th>Exercise</th>\n      <th>Fruit_Habit</th>\n      <th>Water_Habit</th>\n      <th>Height</th>\n      <th>Weight</th>\n      <th>High_Cholesterol</th>\n      <th>Blood_Pressure</th>\n      <th>Mental_Health</th>\n      <th>Physical_Health</th>\n      <th>Checkup</th>\n      <th>Diabetes</th>\n    </tr>\n    <tr>\n      <th>PatientID</th>\n      <th></th>\n      <th></th>\n      <th></th>\n      <th></th>\n      <th></th>\n      <th></th>\n      <th></th>\n      <th></th>\n      <th></th>\n      <th></th>\n      <th></th>\n      <th></th>\n      <th></th>\n      <th></th>\n      <th></th>\n      <th></th>\n      <th></th>\n      <th></th>\n    </tr>\n  </thead>\n  <tbody>\n    <tr>\n      <th>1167</th>\n      <td>Mrs. Stephanie Gay</td>\n      <td>1965</td>\n      <td>London</td>\n      <td>High School Incomplete (10th to 11th grade)</td>\n      <td>1</td>\n      <td>No</td>\n      <td>I usually consume alcohol every day</td>\n      <td>Yes</td>\n      <td>Less than 1. I do not consume fruits every day.</td>\n      <td>Between one liter and two liters</td>\n      <td>155</td>\n      <td>67</td>\n      <td>358</td>\n      <td>120</td>\n      <td>21</td>\n      <td>2</td>\n      <td>More than 3 years</td>\n      <td>Neither I nor my immediate family have diabetes.</td>\n    </tr>\n    <tr>\n      <th>1805</th>\n      <td>Mr. Sherman Nero</td>\n      <td>1969</td>\n      <td>South West</td>\n      <td>High School Incomplete (10th to 11th grade)</td>\n      <td>1</td>\n      <td>No</td>\n      <td>I consider myself a social drinker</td>\n      <td>Yes</td>\n      <td>Less than 1. I do not consume fruits every day.</td>\n      <td>Between one liter and two liters</td>\n      <td>173</td>\n      <td>88</td>\n      <td>230</td>\n      <td>142</td>\n      <td>9</td>\n      <td>0</td>\n      <td>Not sure</td>\n      <td>Neither I nor my immediate family have diabetes.</td>\n    </tr>\n    <tr>\n      <th>1557</th>\n      <td>Mr. Mark Boller</td>\n      <td>1974</td>\n      <td>Yorkshire and the Humber</td>\n      <td>Elementary School (1st to 9th grade)</td>\n      <td>1</td>\n      <td>No</td>\n      <td>I consider myself a social drinker</td>\n      <td>No</td>\n      <td>Less than 1. I do not consume fruits every day.</td>\n      <td>More than half a liter but less than one liter</td>\n      <td>162</td>\n      <td>68</td>\n      <td>226</td>\n      <td>122</td>\n      <td>26</td>\n      <td>0</td>\n      <td>More than 3 years</td>\n      <td>Neither I nor my immediate family have diabetes.</td>\n    </tr>\n    <tr>\n      <th>1658</th>\n      <td>Mr. David Caffee</td>\n      <td>1958</td>\n      <td>London</td>\n      <td>University Complete (3 or more years)</td>\n      <td>0</td>\n      <td>No</td>\n      <td>I usually consume alcohol every day</td>\n      <td>Yes</td>\n      <td>Less than 1. I do not consume fruits every day.</td>\n      <td>More than half a liter but less than one liter</td>\n      <td>180</td>\n      <td>66</td>\n      <td>313</td>\n      <td>125</td>\n      <td>13</td>\n      <td>8</td>\n      <td>Not sure</td>\n      <td>I have/had pregnancy diabetes or borderline di...</td>\n    </tr>\n    <tr>\n      <th>1544</th>\n      <td>Mr. Gerald Emery</td>\n      <td>1968</td>\n      <td>South East</td>\n      <td>University Incomplete (1 to 2 years)</td>\n      <td>1</td>\n      <td>No</td>\n      <td>I consider myself a social drinker</td>\n      <td>No</td>\n      <td>1 to 2 pieces of fruit in average</td>\n      <td>More than half a liter but less than one liter</td>\n      <td>180</td>\n      <td>58</td>\n      <td>277</td>\n      <td>125</td>\n      <td>18</td>\n      <td>2</td>\n      <td>More than 3 years</td>\n      <td>I have/had pregnancy diabetes or borderline di...</td>\n    </tr>\n  </tbody>\n</table>\n</div>"
     },
     "execution_count": 6,
     "metadata": {},
     "output_type": "execute_result"
    }
   ],
   "source": [
    "#checking how the testing dataframe is\n",
    "df.head()"
   ]
  },
  {
   "cell_type": "markdown",
   "id": "6ceef791",
   "metadata": {},
   "source": [
    "### Initial Data Exploration"
   ]
  },
  {
   "cell_type": "markdown",
   "id": "f396ef8d",
   "metadata": {},
   "source": [
    "**Information about the Data fields of our DataFrame**\n",
    "\n",
    "PatientID - The unique identifier of the patient <p>\n",
    "Birth Year - Patient Year of Birth <p>\n",
    "Name - Name of the patient <p>\n",
    "Region - Patient Living Region <p>\n",
    "Education - Answer to the question: What is the highest grade or year of school you have? <p>\n",
    "Disease - The dependent variable. If the patient has the disease (Disease = 1) or not (Disease = 0) <p>\n",
    "Height - Patient’s height <p>\n",
    "Weight - Patient’s weight <p>\n",
    "Checkup - Answer to the question: How long has it been since you last visited a doctor for a routine Checkup? (A routine<p>\n",
    "Checkup is a general physical exam, not an exam for a specific injury, illness, or condition.) <p>\n",
    "Diabetes - Answer to the question: (Ever told) you or your direct relatives have diabetes? <p>\n",
    "HighCholesterol - Cholesterol value <p>\n",
    "BloodP ressure - Blood Pressure in rest value <p>\n",
    "Mental Health - Answer to the question: During the past 30 days, for about how many days did poor physical or mental health keep you from doing your usual activities, such as self-care, work, or recreation?<p>\n",
    "Physical Health - Answer to the question: Thinking about your physical health, which includes physical illness and injury,for how many days during the past 30 days was your physical health not good to the point where it was difficult to walk?<p>\n",
    "Smoking Habit - Answer to the question: Do you smoke more than 10 cigars daily? <p>\n",
    "Drinking Habit - Answer to the question: What is your behavior concerning alcohol consumption? <p>\n",
    "Exercise - Answer to the question: Do you exercise (more than 30 minutes) 3 times per week or more? <p>\n",
    "Fruit Habit - Answer to the question: How many portions of fruits do you consume per day? <p>\n",
    "Water Habit - Answer to the question: How much water do you drink per day?"
   ]
  },
  {
   "cell_type": "code",
   "execution_count": null,
   "id": "66075ce7",
   "metadata": {},
   "outputs": [],
   "source": []
  }
 ],
 "metadata": {
  "kernelspec": {
   "display_name": "Python 3 (ipykernel)",
   "language": "python",
   "name": "python3"
  },
  "language_info": {
   "codemirror_mode": {
    "name": "ipython",
    "version": 3
   },
   "file_extension": ".py",
   "mimetype": "text/x-python",
   "name": "python",
   "nbconvert_exporter": "python",
   "pygments_lexer": "ipython3",
   "version": "3.9.12"
  }
 },
 "nbformat": 4,
 "nbformat_minor": 5
}
